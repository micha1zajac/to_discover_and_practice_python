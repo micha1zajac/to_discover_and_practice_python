{
  "nbformat": 4,
  "nbformat_minor": 0,
  "metadata": {
    "colab": {
      "provenance": [],
      "authorship_tag": "ABX9TyPI3bJixHnd474MyE9gp23H"
    },
    "kernelspec": {
      "name": "python3",
      "display_name": "Python 3"
    },
    "language_info": {
      "name": "python"
    }
  },
  "cells": [
    {
      "cell_type": "markdown",
      "source": [
        "# Warmup:"
      ],
      "metadata": {
        "id": "8YN7MREnVP1a"
      }
    },
    {
      "cell_type": "code",
      "execution_count": null,
      "metadata": {
        "id": "QiTHoIROUp0F"
      },
      "outputs": [],
      "source": [
        "for i in range(1, 21):\n",
        "  if i % 2 != 0:\n",
        "    print('Nieparzysta')\n",
        "  else:\n",
        "    print(i)"
      ]
    },
    {
      "cell_type": "markdown",
      "source": [
        "# FizzBuzz:\n",
        "\n",
        "## Wypisać liczby, od 1 do 20 przy czym liczby podzielne przez 3 zamienic slowem Fizz, liczby podzielne przez 5 zamienić slowem Buzz,  a liczby podzielne przez 3 i 5, zamienić słowem FizzBuzz.\n",
        "\n",
        "### *Przykład: 1, 2, Fizz, 4, Buzz, Fizz, 7, 8, Fizz, Buzz, 11, Fizz, 13, 14, FizzBuzz*"
      ],
      "metadata": {
        "id": "bD2UZ_ztWxKF"
      }
    },
    {
      "cell_type": "code",
      "source": [
        "for i in range(1,9):\n",
        "  if (i % 3 == 0) and (i % 5 == 0):\n",
        "    print(\"FizzBuzz\")\n",
        "  elif i % 5 == 0:\n",
        "    print(\"Buzz\")\n",
        "  elif i % 3 == 0:\n",
        "    print('Fizz')\n",
        "  else:\n",
        "    print(i)\n",
        "\n",
        "# Inaczej z instrukcja dodatkowa continue, ktora pozwala na przerwanie\n",
        "# wykonywania dalszej czesci kodu i powrot poczatku petli.\n",
        "\n",
        "for i in range(9, 16):\n",
        "  if i % 3 == 0 and i % 5 == 0:\n",
        "    print('FizzBuzz')\n",
        "    continue\n",
        "  if i % 3 == 0:\n",
        "    print('Fizz')\n",
        "    continue\n",
        "  if i % 5 == 0:\n",
        "    print('Buzz')\n",
        "    continue\n",
        "  print(i)\n",
        ""
      ],
      "metadata": {
        "id": "znMDNZjdYc50"
      },
      "execution_count": null,
      "outputs": []
    },
    {
      "cell_type": "markdown",
      "source": [
        "# The highest and the lowest value in list:\n",
        "\n",
        "## With python languge find the highest and the lowest value in list = lista. To do that use 'for' loop and two variables. Loop will be iterate over the list and search higher and lower value which there already are (in variables). If iterates value pass the if statement, then this value replace variable.    \n",
        "\n",
        "### *Example: list = [2, 3, 6, -1], high = 6, low = -1*"
      ],
      "metadata": {
        "id": "EtVQHUVofE8y"
      }
    },
    {
      "cell_type": "code",
      "source": [
        "lista = [3, 7, 10, 5, 7, -3, 5, -7, 70, 30, -30, 53, 2, 7, \\\n",
        "         1, 0, 5, 70, -4, -50, -3, 0, 6, 4, 22, 57, 0, -4, \\\n",
        "         44, 36, -12, -90, 4, 3, 66, 89, 125, 6, 6, 7, 3]\n",
        "\n",
        "the_highest = None\n",
        "the_lowest = None\n",
        "\n",
        "for i in lista:\n",
        "  if the_highest == None or the_highest < i:\n",
        "    the_highest = i\n",
        "\n",
        "  if the_lowest == None or the_lowest > i:\n",
        "    the_lowest = i\n",
        "\n",
        "print('The highest value in list is: ', the_highest)\n",
        "print('The lowest value in list is: ', the_lowest)\n"
      ],
      "metadata": {
        "colab": {
          "base_uri": "https://localhost:8080/"
        },
        "id": "hD3AO6-Lh7Kv",
        "outputId": "bee6ae10-bd40-4c02-8809-9ee28bd8af33"
      },
      "execution_count": 33,
      "outputs": [
        {
          "output_type": "stream",
          "name": "stdout",
          "text": [
            "The highest value in list is:  125\n",
            "The lowest value in list is:  -90\n"
          ]
        }
      ]
    },
    {
      "cell_type": "markdown",
      "source": [
        "# Lorem Ipsum text analysis program:\n",
        "\n",
        "## Program assumption:\n",
        "## 1. Program should counts liters in text.\n",
        "## 2. Also words and sentence.\n",
        "## 3. How many times the letters from alphabet appear there (frequency)?\n"
      ],
      "metadata": {
        "id": "6OE8sm-aj1pm"
      }
    },
    {
      "cell_type": "code",
      "source": [
        "lorem = \"Lorem ipsum dolor sit amet, consectetur adipiscing elit, sed do eiusmod tempor incididunt ut labore et dolore magna aliqua. Ut enim ad minim veniam, quis nostrud exercitation ullamco laboris nisi ut aliquip ex ea commodo consequat. Duis aute irure dolor in reprehenderit in voluptate velit esse cillum dolore eu fugiat nulla pariatur. Excepteur sint occaecat cupidatat non proident, sunt in culpa qui officia deserunt mollit anim id est laborum.\"\n",
        "\n",
        "lorem = lorem.lower()\n",
        "\n",
        "# print(lorem)\n",
        "\n",
        "words = 1\n",
        "letters = 0\n",
        "freq = {}\n",
        "\n",
        "def liczydlo(text):\n",
        "  \"\"\"Funkcja liczy slowa, litery oraz czestotliwosć wystepowania danych w\n",
        "  postaci slownika. Oczekuje ciągu znakow do dzialania.\n",
        "\n",
        "  \"\"\"\n",
        "  global words\n",
        "  global letters\n",
        "  global freq\n",
        "\n",
        "  for i in text:\n",
        "    # Iteracja po tekscie.\n",
        "    # Liczenie spacji, poniewarz z regóły jest ich o jeden mniej niz slow.\n",
        "    # Wykrywajac spacje doliczamy dodatkowe slowo do words.\n",
        "    # Trafiajac na cos innego niz spacje, liczymy jako litere i dokladamy do zmiennej letters.\n",
        "\n",
        "    if i == \" \":\n",
        "      words += 1\n",
        "    if i != \" \":\n",
        "      letters += 1\n",
        "      # Warunek tworzy nowe klucze w dzienniku freq, sa nimi nowo napotkane litery.\n",
        "      # Jesli jednak litera sie powtarza to jest +1 dla istniejacej.\n",
        "\n",
        "      if i in freq:\n",
        "        freq[i] += 1\n",
        "      else:\n",
        "        freq[i] = 1\n",
        "\n",
        "  return words, letters, freq\n",
        "\n",
        "print('Words: {words}\\nLetters: {letters}\\n'.format(liczydlo(lorem),\n",
        "                                                     words=words,\n",
        "                                                     letters=letters))\n",
        "\n",
        "for key in freq:\n",
        "  # Petla po dictionary. dla kazdego key wyswietla value.\n",
        "  value = freq[key]\n",
        "  print(f\"Letter: {key} --> {value}\")"
      ],
      "metadata": {
        "id": "aosPnRlymoVm"
      },
      "execution_count": null,
      "outputs": []
    }
  ]
}